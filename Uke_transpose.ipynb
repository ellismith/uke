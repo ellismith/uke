{
 "cells": [
  {
   "cell_type": "markdown",
   "metadata": {},
   "source": [
    "# Uke Transposition Project"
   ]
  },
  {
   "cell_type": "code",
   "execution_count": 1,
   "metadata": {},
   "outputs": [],
   "source": [
    "%load_ext autoreload\n",
    "%autoreload 2"
   ]
  },
  {
   "cell_type": "code",
   "execution_count": 2,
   "metadata": {},
   "outputs": [],
   "source": [
    "import ipywidgets as widgets\n",
    "import pandas as pd\n",
    "from IPython.display import display, clear_output\n",
    "import uke2 as uke #import uke2 file with namespace \"uke\", put at beginning of all functions "
   ]
  },
  {
   "cell_type": "code",
   "execution_count": 3,
   "metadata": {},
   "outputs": [
    {
     "data": {
      "text/plain": [
       "['C', 'Db', 'D', 'Eb', 'E', 'F', 'Gb', 'G', 'Ab', 'A', 'Bb', 'B']"
      ]
     },
     "execution_count": 3,
     "metadata": {},
     "output_type": "execute_result"
    }
   ],
   "source": [
    "uke.notes"
   ]
  },
  {
   "cell_type": "code",
   "execution_count": 4,
   "metadata": {},
   "outputs": [],
   "source": [
    "song = uke.Song() #create new song variable that's an instance of the Song class\n",
    "#now song is global"
   ]
  },
  {
   "cell_type": "code",
   "execution_count": 5,
   "metadata": {},
   "outputs": [],
   "source": [
    "init_url = \"https://www.ukulele-tabs.com/uke-songs/vance-joy/riptide-uke-tab-31868.html\""
   ]
  },
  {
   "cell_type": "code",
   "execution_count": 6,
   "metadata": {},
   "outputs": [
    {
     "data": {
      "application/vnd.jupyter.widget-view+json": {
       "model_id": "5902ab60a93b4d30ab413563e8ed6954",
       "version_major": 2,
       "version_minor": 0
      },
      "text/plain": [
       "VBox(children=(Text(value='https://www.ukulele-tabs.com/uke-songs/vance-joy/riptide-uke-tab-31868.html', descr…"
      ]
     },
     "metadata": {},
     "output_type": "display_data"
    }
   ],
   "source": [
    "def hook(new_url = False): #check url and slider every time something changes\n",
    "    if new_url:\n",
    "        url = textbox.value\n",
    "        song.chords_dict, song.chord_counter = uke.get_chords_dict_and_counter(url)\n",
    "        song.response = uke.get_response(url)\n",
    "    song.target_key = slider.value\n",
    "    key_scores = uke.rank_keys(song.chords_dict, song.chord_counter)\n",
    "    song.original_key = pd.Series(key_scores).sort_values()[::-1].index[0]\n",
    "    transpose_int = uke.d[song.target_key] - uke.d[song.original_key]\n",
    "    soup = uke.change_key(song.response, transpose_int, song.target_key)\n",
    "    html.value = str(soup.find(\"pre\"))\n",
    "  \n",
    "def slider_hook(x):\n",
    "    hook() #same as saying hook(new_url = False)\n",
    "    \n",
    "def textbox_hook(x):\n",
    "    hook(new_url = True)\n",
    "    \n",
    "    \n",
    "textbox = widgets.Text(value = init_url,\n",
    "    placeholder='Enter song url',\n",
    "    description='URL:')\n",
    "textbox.layout = widgets.Layout(width = '80%') #all attributes have to be string\n",
    "textbox.on_submit(textbox_hook) #when the person hits enter\n",
    "\n",
    "    \n",
    "slider = widgets.SelectionSlider(options=uke.notes, continuous_update = False)\n",
    "slider.observe(slider_hook, names='value')\n",
    "html = widgets.HTML(value = 'Stand by...')\n",
    "output = widgets.VBox([textbox, slider, html])\n",
    "textbox_hook(0)\n",
    "output"
   ]
  }
 ],
 "metadata": {
  "kernelspec": {
   "display_name": "Python 3",
   "language": "python",
   "name": "python3"
  },
  "language_info": {
   "codemirror_mode": {
    "name": "ipython",
    "version": 3
   },
   "file_extension": ".py",
   "mimetype": "text/x-python",
   "name": "python",
   "nbconvert_exporter": "python",
   "pygments_lexer": "ipython3",
   "version": "3.8.3"
  }
 },
 "nbformat": 4,
 "nbformat_minor": 4
}
